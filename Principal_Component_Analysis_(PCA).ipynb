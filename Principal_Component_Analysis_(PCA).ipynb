{
  "nbformat": 4,
  "nbformat_minor": 0,
  "metadata": {
    "colab": {
      "provenance": [],
      "authorship_tag": "ABX9TyMKvBn1v+vuy//LExPGeOhj",
      "include_colab_link": true
    },
    "kernelspec": {
      "name": "python3",
      "display_name": "Python 3"
    },
    "language_info": {
      "name": "python"
    }
  },
  "cells": [
    {
      "cell_type": "markdown",
      "metadata": {
        "id": "view-in-github",
        "colab_type": "text"
      },
      "source": [
        "<a href=\"https://colab.research.google.com/github/plmllab/linear-algebra-and-learning-from-data/blob/main/Principal_Component_Analysis_(PCA).ipynb\" target=\"_parent\"><img src=\"https://colab.research.google.com/assets/colab-badge.svg\" alt=\"Open In Colab\"/></a>"
      ]
    },
    {
      "cell_type": "markdown",
      "source": [
        "# Principal Component Analysis"
      ],
      "metadata": {
        "id": "wl5xvPv4Pl_h"
      }
    },
    {
      "cell_type": "markdown",
      "source": [
        "**Principal Component Analysis (PCA)** is a widely used algorithm for **dimensionality reduction**. It constructs a lower-dimensional representation of a dataset while preserving as much of the original information as possible. As we will see, \"keeping as much information as possible\" essentially means finding directions—called **principal components**—along which the **greatest variance** is captured.\n"
      ],
      "metadata": {
        "id": "_PJ3WgpcPsTB"
      }
    },
    {
      "cell_type": "markdown",
      "source": [
        "The main objective of PCA can be succinctly summarized as follows:\n",
        "> **Find the projections of $n$ sample data points $\\mathbf{x}_i \\in \\mathbb{R}^d$ onto a lower-dimensional subspace while keeping as much information as possible.**\n",
        "\n",
        "Keeping as much information as possible is rather vague. How do we quantify the amount of information retained in the lower-dimensional projections? As we will later see, in PCA, information is specifically quantified by data's variance."
      ],
      "metadata": {
        "id": "FuUxhjiIP9SF"
      }
    },
    {
      "cell_type": "markdown",
      "source": [
        "# 1. Goal of This Computational Essay"
      ],
      "metadata": {
        "id": "Fh256PUTPu5-"
      }
    },
    {
      "cell_type": "markdown",
      "source": [
        "In this computational essay, our aim is to implement PCA on the MNIST dataset. MNIST is a dataset of 60,000 28x28 grayscale images of the 10 digits, along with a test set of 10,000 images, and for our purposes, we are going to deal with only two digits, 0 and 1."
      ],
      "metadata": {
        "id": "17WU2kPUP249"
      }
    },
    {
      "cell_type": "markdown",
      "source": [
        "# 2. Import Dataset"
      ],
      "metadata": {
        "id": "Zlj8SdigNdkn"
      }
    },
    {
      "cell_type": "code",
      "execution_count": 1,
      "metadata": {
        "id": "7hatp1oGMjb5"
      },
      "outputs": [],
      "source": [
        "import keras\n",
        "import numpy as np\n",
        "import jax.numpy as jnp\n",
        "import matplotlib.pyplot as plt"
      ]
    },
    {
      "cell_type": "code",
      "source": [
        "(x_train, y_train), (x_test, y_test) = keras.datasets.mnist.load_data()"
      ],
      "metadata": {
        "id": "Io42IetUOlbM",
        "colab": {
          "base_uri": "https://localhost:8080/"
        },
        "outputId": "0d93a798-649f-411d-ceb3-6fa410ecaf96"
      },
      "execution_count": 2,
      "outputs": [
        {
          "output_type": "stream",
          "name": "stdout",
          "text": [
            "Downloading data from https://storage.googleapis.com/tensorflow/tf-keras-datasets/mnist.npz\n",
            "\u001b[1m11490434/11490434\u001b[0m \u001b[32m━━━━━━━━━━━━━━━━━━━━\u001b[0m\u001b[37m\u001b[0m \u001b[1m0s\u001b[0m 0us/step\n"
          ]
        }
      ]
    },
    {
      "cell_type": "markdown",
      "source": [
        "# 3. Prepare Dataset"
      ],
      "metadata": {
        "id": "dayPja7ESlMx"
      }
    },
    {
      "cell_type": "code",
      "source": [
        "x_train_ones = x_train[y_train == 1]\n",
        "x_train_zeros = x_train[y_train == 0]"
      ],
      "metadata": {
        "id": "CHUAfF43RVpV"
      },
      "execution_count": 3,
      "outputs": []
    },
    {
      "cell_type": "code",
      "source": [
        "x_train_ones_flattened = x_train_ones.reshape(-1, 28*28)\n",
        "x_train_zeros_flattened = x_train_zeros.reshape(-1, 28*28)"
      ],
      "metadata": {
        "id": "_MKtUE93Rqd1"
      },
      "execution_count": 4,
      "outputs": []
    },
    {
      "cell_type": "code",
      "source": [
        "x_train_ones_flattened.shape"
      ],
      "metadata": {
        "colab": {
          "base_uri": "https://localhost:8080/"
        },
        "id": "lWsGDQ4dSCp3",
        "outputId": "4635159d-5f78-44d5-a9b6-3517a19fa39d"
      },
      "execution_count": 5,
      "outputs": [
        {
          "output_type": "execute_result",
          "data": {
            "text/plain": [
              "(6742, 784)"
            ]
          },
          "metadata": {},
          "execution_count": 5
        }
      ]
    },
    {
      "cell_type": "code",
      "source": [
        "x_train_zeros_flattened.shape"
      ],
      "metadata": {
        "colab": {
          "base_uri": "https://localhost:8080/"
        },
        "id": "-oNWyBzGTnXQ",
        "outputId": "ab44fd72-d7d8-4d01-d37d-219077a983a3"
      },
      "execution_count": 6,
      "outputs": [
        {
          "output_type": "execute_result",
          "data": {
            "text/plain": [
              "(5923, 784)"
            ]
          },
          "metadata": {},
          "execution_count": 6
        }
      ]
    },
    {
      "cell_type": "markdown",
      "source": [
        "# 3. Data Matrix"
      ],
      "metadata": {
        "id": "GJfg1LqbSotZ"
      }
    },
    {
      "cell_type": "markdown",
      "source": [
        "For PCA, we consider a data set of observations, which is essentially $n\\times d$ data matrix $\\mathbf{X}$. Each data point is represented as a $d$-dimensional vector."
      ],
      "metadata": {
        "id": "fk0XQ92rTFZI"
      }
    },
    {
      "cell_type": "markdown",
      "source": [
        "So, we form a data matrix $\\mathbf{X}$:"
      ],
      "metadata": {
        "id": "pj_3-bc6UcR6"
      }
    },
    {
      "cell_type": "code",
      "source": [
        "X = np.concatenate((x_train_ones_flattened, x_train_zeros_flattened), axis=0)"
      ],
      "metadata": {
        "id": "dnOQoboWSIWn"
      },
      "execution_count": 7,
      "outputs": []
    },
    {
      "cell_type": "markdown",
      "source": [
        "We inspect the size of our data matrix $\\mathbf{X}$:"
      ],
      "metadata": {
        "id": "eP2_UsaVTa0E"
      }
    },
    {
      "cell_type": "code",
      "source": [
        "X.shape"
      ],
      "metadata": {
        "colab": {
          "base_uri": "https://localhost:8080/"
        },
        "id": "uO4Bl8DqTBEl",
        "outputId": "35ce3393-0247-4eec-d9b1-ecb8b269cad3"
      },
      "execution_count": 8,
      "outputs": [
        {
          "output_type": "execute_result",
          "data": {
            "text/plain": [
              "(12665, 784)"
            ]
          },
          "metadata": {},
          "execution_count": 8
        }
      ]
    },
    {
      "cell_type": "markdown",
      "source": [
        "The size of our data matrix is $12665\\times 784$."
      ],
      "metadata": {
        "id": "wfhHUzutTfvc"
      }
    },
    {
      "cell_type": "markdown",
      "source": [
        "# 4. Sample Covariance Matrix"
      ],
      "metadata": {
        "id": "qCVPVmJ8T5y0"
      }
    },
    {
      "cell_type": "markdown",
      "source": [
        "A very important matrix in PCA is the covariance matrix of size $d\\times d$ containing the covariances between the $d$ variables or features of our dataset."
      ],
      "metadata": {
        "id": "qRd5bbAcUR0U"
      }
    },
    {
      "cell_type": "markdown",
      "source": [
        "It can be shown that the sample covariance matrix is:\n",
        "\n",
        "$$S=\\frac{1}{n}\\mathbf{X}_c^\\top\\mathbf{X}_c$$\n",
        "\n",
        "where $\\mathbf{X}_c$ is a centered version (mean zero) of our data matrix."
      ],
      "metadata": {
        "id": "N2MNRFvCUkTt"
      }
    },
    {
      "cell_type": "markdown",
      "source": [
        "## 4.1 Centered Data Matrix\n",
        "\n",
        "\n",
        "\n"
      ],
      "metadata": {
        "id": "UTxVrNCYUxam"
      }
    },
    {
      "cell_type": "markdown",
      "source": [
        "Firstly, given $n$ data points $\\mathbf{x}_i\\in\\mathbb{R}^d$, we compute the sample mean vector $\\bar{\\mathbf{x}}\\in\\mathbb{R}^d$."
      ],
      "metadata": {
        "id": "ec_HDlreWCYo"
      }
    },
    {
      "cell_type": "code",
      "source": [
        "X_mean = np.mean(X, axis=1, keepdims=True)"
      ],
      "metadata": {
        "id": "M9I-asbaVDeh"
      },
      "execution_count": 9,
      "outputs": []
    },
    {
      "cell_type": "code",
      "source": [
        "X_mean.shape"
      ],
      "metadata": {
        "colab": {
          "base_uri": "https://localhost:8080/"
        },
        "id": "m5QMW16XVVxR",
        "outputId": "cd88fa01-2916-4e40-c89a-e28bfa612a24"
      },
      "execution_count": 10,
      "outputs": [
        {
          "output_type": "execute_result",
          "data": {
            "text/plain": [
              "(12665, 1)"
            ]
          },
          "metadata": {},
          "execution_count": 10
        }
      ]
    },
    {
      "cell_type": "markdown",
      "source": [
        "Then, we can compute the centered data matrix $\\mathbf{X}_c$ by subtracting the mean vector from each column."
      ],
      "metadata": {
        "id": "LgWZtMJBWWGb"
      }
    },
    {
      "cell_type": "code",
      "source": [
        "X_c = X - X_mean"
      ],
      "metadata": {
        "id": "8u_Mt7t-VXaD"
      },
      "execution_count": 11,
      "outputs": []
    },
    {
      "cell_type": "code",
      "source": [
        "X_c.shape"
      ],
      "metadata": {
        "colab": {
          "base_uri": "https://localhost:8080/"
        },
        "id": "_3b-3_dNVi4A",
        "outputId": "2b34abea-92bf-48a4-9a6f-49d767d3d90b"
      },
      "execution_count": 12,
      "outputs": [
        {
          "output_type": "execute_result",
          "data": {
            "text/plain": [
              "(12665, 784)"
            ]
          },
          "metadata": {},
          "execution_count": 12
        }
      ]
    },
    {
      "cell_type": "code",
      "source": [
        "X_c_mean = np.mean(X_c, axis=1, keepdims=True)"
      ],
      "metadata": {
        "id": "qu8_HKHiVsZl"
      },
      "execution_count": 13,
      "outputs": []
    },
    {
      "cell_type": "code",
      "source": [
        "X_c_mean"
      ],
      "metadata": {
        "colab": {
          "base_uri": "https://localhost:8080/"
        },
        "id": "dppl4PPPWr2D",
        "outputId": "af5e04b9-e358-49e0-d3bc-c38c4621cda3"
      },
      "execution_count": 14,
      "outputs": [
        {
          "output_type": "execute_result",
          "data": {
            "text/plain": [
              "array([[ 2.03012210e-15],\n",
              "       [ 3.48020932e-15],\n",
              "       [-1.45008722e-16],\n",
              "       ...,\n",
              "       [ 0.00000000e+00],\n",
              "       [ 0.00000000e+00],\n",
              "       [-4.06024420e-15]])"
            ]
          },
          "metadata": {},
          "execution_count": 14
        }
      ]
    },
    {
      "cell_type": "markdown",
      "source": [
        "## 4.2 Covariance Matrix"
      ],
      "metadata": {
        "id": "_HDyqh82XUR5"
      }
    },
    {
      "cell_type": "markdown",
      "source": [
        "Now, we can compute the sample covariance matrix using the centered data matrix."
      ],
      "metadata": {
        "id": "BJ1dk263XWgS"
      }
    },
    {
      "cell_type": "code",
      "source": [
        "S = X_c.T @ X_c / X_c.shape[0]"
      ],
      "metadata": {
        "id": "-s4gHQlmXaD1"
      },
      "execution_count": 15,
      "outputs": []
    },
    {
      "cell_type": "markdown",
      "source": [
        "# 5. Eigendecomposition of the Covariance Matrix"
      ],
      "metadata": {
        "id": "beiu0oTnXzsp"
      }
    },
    {
      "cell_type": "code",
      "source": [
        "type(np.linalg.eig(S))"
      ],
      "metadata": {
        "colab": {
          "base_uri": "https://localhost:8080/"
        },
        "id": "CTYCPvm8YI4I",
        "outputId": "65be8ad6-f144-4b6b-f110-712b40b4a03d"
      },
      "execution_count": 16,
      "outputs": [
        {
          "output_type": "execute_result",
          "data": {
            "text/plain": [
              "numpy.linalg._linalg.EigResult"
            ]
          },
          "metadata": {},
          "execution_count": 16
        }
      ]
    },
    {
      "cell_type": "code",
      "source": [
        "eigenvalues, eigenvectors = np.linalg.eig(S)"
      ],
      "metadata": {
        "id": "QozyrwY2YLJW"
      },
      "execution_count": 17,
      "outputs": []
    },
    {
      "cell_type": "code",
      "source": [
        "perm = np.argsort(eigenvalues)[::-1]"
      ],
      "metadata": {
        "id": "OmgbOWrGY48d"
      },
      "execution_count": 18,
      "outputs": []
    },
    {
      "cell_type": "code",
      "source": [
        "eigenvalues = eigenvalues[perm]\n",
        "eigenvectors = eigenvectors[:, perm]"
      ],
      "metadata": {
        "id": "g8XYqpHAZb2-"
      },
      "execution_count": 19,
      "outputs": []
    },
    {
      "cell_type": "markdown",
      "source": [
        "## 6. Choose $k$, dimension of the projected subspace"
      ],
      "metadata": {
        "id": "HnkCwNqwabt2"
      }
    },
    {
      "cell_type": "markdown",
      "source": [
        "## 6.1 Scree Plot"
      ],
      "metadata": {
        "id": "XpBU8pR5akZk"
      }
    },
    {
      "cell_type": "code",
      "source": [
        "plt.plot(eigenvalues)\n",
        "plt.xlabel('Principal Component')\n",
        "plt.ylabel('Eigenvalue')\n",
        "plt.xlim(0, 10)\n",
        "plt.title('Scree Plot')\n",
        "plt.show()"
      ],
      "metadata": {
        "colab": {
          "base_uri": "https://localhost:8080/",
          "height": 561
        },
        "id": "Y45FguliZfax",
        "outputId": "b7d08382-8b51-4d5a-9558-d629e89316bd"
      },
      "execution_count": 20,
      "outputs": [
        {
          "output_type": "stream",
          "name": "stderr",
          "text": [
            "/usr/local/lib/python3.11/dist-packages/matplotlib/cbook.py:1709: ComplexWarning: Casting complex values to real discards the imaginary part\n",
            "  return math.isfinite(val)\n",
            "/usr/local/lib/python3.11/dist-packages/matplotlib/cbook.py:1345: ComplexWarning: Casting complex values to real discards the imaginary part\n",
            "  return np.asarray(x, float)\n"
          ]
        },
        {
          "output_type": "display_data",
          "data": {
            "text/plain": [
              "<Figure size 640x480 with 1 Axes>"
            ],
            "image/png": "[encoded data removed]"
          },
          "metadata": {}
        }
      ]
    },
    {
      "cell_type": "markdown",
      "source": [
        "From this scree plot, we can  see that the **effective rank** of our data matrix is $2$ or $5$ if we allow for little more approximation error. So, we will choose $k=2$."
      ],
      "metadata": {
        "id": "0qWx1U5tbVhz"
      }
    },
    {
      "cell_type": "markdown",
      "source": [
        "# 7. Principal Components"
      ],
      "metadata": {
        "id": "kfg5Rw8IcVlf"
      }
    },
    {
      "cell_type": "markdown",
      "source": [
        "Since we have chosen $k=2$, we can form the projection matrix $P_2=[\\mathbf{u}_1,\\mathbf{u}_2]$ where $\\mathbf{u}_1$ and $\\mathbf{u}_2$ correspond to the two laragest eigenvalues of the sample covariance matrix $S$."
      ],
      "metadata": {
        "id": "gsAHganPcX5a"
      }
    },
    {
      "cell_type": "code",
      "source": [
        "P_2 = eigenvectors[:,:2]"
      ],
      "metadata": {
        "id": "EfFHs_NtaxcH"
      },
      "execution_count": 21,
      "outputs": []
    },
    {
      "cell_type": "code",
      "source": [
        "P_2.shape"
      ],
      "metadata": {
        "colab": {
          "base_uri": "https://localhost:8080/"
        },
        "id": "QntMZN2ydIx4",
        "outputId": "7ed337a3-82f8-432d-875d-d5def98c75f5"
      },
      "execution_count": 22,
      "outputs": [
        {
          "output_type": "execute_result",
          "data": {
            "text/plain": [
              "(784, 2)"
            ]
          },
          "metadata": {},
          "execution_count": 22
        }
      ]
    },
    {
      "cell_type": "markdown",
      "source": [
        "# 8. Lower-Dimensional Representation of the Data"
      ],
      "metadata": {
        "id": "nLb73o2wdNIW"
      }
    },
    {
      "cell_type": "markdown",
      "source": [
        "We can produce the lower dimensional representation by matrix-multiplying our projection matrix times our data matrix."
      ],
      "metadata": {
        "id": "ve-QCzhgdSWt"
      }
    },
    {
      "cell_type": "code",
      "source": [
        "Z = P_2.T @ X_c.T"
      ],
      "metadata": {
        "id": "4QWCKDYhdZlV"
      },
      "execution_count": 23,
      "outputs": []
    },
    {
      "cell_type": "code",
      "source": [
        "Z.shape"
      ],
      "metadata": {
        "colab": {
          "base_uri": "https://localhost:8080/"
        },
        "id": "HkdozHs2dffS",
        "outputId": "8fc109d3-66cf-4b96-f037-8a904d3b3772"
      },
      "execution_count": 24,
      "outputs": [
        {
          "output_type": "execute_result",
          "data": {
            "text/plain": [
              "(2, 12665)"
            ]
          },
          "metadata": {},
          "execution_count": 24
        }
      ]
    },
    {
      "cell_type": "code",
      "source": [
        "x_zeros_1 = Z[0, :6742]\n",
        "x_zeros_2 = Z[1, :6742]"
      ],
      "metadata": {
        "id": "reZ8vVeheKP-"
      },
      "execution_count": 25,
      "outputs": []
    },
    {
      "cell_type": "code",
      "source": [
        "x_ones_1 = Z[0, 6742:]\n",
        "x_ones_2 = Z[1, 6742:]"
      ],
      "metadata": {
        "id": "I1hA9lu6ei-3"
      },
      "execution_count": 26,
      "outputs": []
    },
    {
      "cell_type": "code",
      "source": [
        "plt.scatter(x_zeros_1, x_zeros_2, color='blue', label='zero')\n",
        "plt.scatter(x_ones_1, x_ones_2, color='red', label='one')\n",
        "plt.legend()\n",
        "plt.show()"
      ],
      "metadata": {
        "colab": {
          "base_uri": "https://localhost:8080/",
          "height": 485
        },
        "id": "n7SNh478eoyG",
        "outputId": "b1056453-640c-4115-bb96-8bec39daaf64"
      },
      "execution_count": 27,
      "outputs": [
        {
          "output_type": "stream",
          "name": "stderr",
          "text": [
            "/usr/local/lib/python3.11/dist-packages/matplotlib/collections.py:200: ComplexWarning: Casting complex values to real discards the imaginary part\n",
            "  offsets = np.asanyarray(offsets, float)\n"
          ]
        },
        {
          "output_type": "display_data",
          "data": {
            "text/plain": [
              "<Figure size 640x480 with 1 Axes>"
            ],
            "image/png": "[encoded data removed]"
          },
          "metadata": {}
        }
      ]
    },
    {
      "cell_type": "markdown",
      "source": [
        "# 9. PCA with SVD"
      ],
      "metadata": {
        "id": "qJK43Y8XuMuK"
      }
    },
    {
      "cell_type": "markdown",
      "source": [
        "Instead of eigendecomposing the sample covariance matrix $S$ to perform PCA on our data, we could singular value decompose our data matrix $\\mathbf{X}$ itself to obtain the principal components."
      ],
      "metadata": {
        "id": "mrS91DwmuQ7K"
      }
    },
    {
      "cell_type": "code",
      "source": [
        "U, S, Vh = np.linalg.svd(X_c)"
      ],
      "metadata": {
        "id": "pZ3wjuKQu6B9"
      },
      "execution_count": 28,
      "outputs": []
    },
    {
      "cell_type": "code",
      "source": [
        "P_2 = Vh.T[:, :2]"
      ],
      "metadata": {
        "id": "RrJ8fpUMvbB0"
      },
      "execution_count": 34,
      "outputs": []
    },
    {
      "cell_type": "code",
      "source": [
        "P_2.shape"
      ],
      "metadata": {
        "colab": {
          "base_uri": "https://localhost:8080/"
        },
        "id": "-ltmqIgavqPt",
        "outputId": "60dc82ab-0399-44f7-d445-1d704d338508"
      },
      "execution_count": 35,
      "outputs": [
        {
          "output_type": "execute_result",
          "data": {
            "text/plain": [
              "(784, 2)"
            ]
          },
          "metadata": {},
          "execution_count": 35
        }
      ]
    },
    {
      "cell_type": "code",
      "source": [
        "Z = P_2.T @ X_c.T"
      ],
      "metadata": {
        "id": "lDlPeRQLwXsL"
      },
      "execution_count": 36,
      "outputs": []
    },
    {
      "cell_type": "code",
      "source": [
        "x_zeros_1 = Z[0, :6742]\n",
        "x_zeros_2 = Z[1, :6742]"
      ],
      "metadata": {
        "id": "xnOuej2ZwiEf"
      },
      "execution_count": 37,
      "outputs": []
    },
    {
      "cell_type": "code",
      "source": [
        "x_ones_1 = Z[0, 6742:]\n",
        "x_ones_2 = Z[1, 6742:]"
      ],
      "metadata": {
        "id": "3BR_mAXtwlKd"
      },
      "execution_count": 38,
      "outputs": []
    },
    {
      "cell_type": "code",
      "source": [
        "plt.scatter(x_zeros_1, x_zeros_2, color='blue', label='zero')\n",
        "plt.scatter(x_ones_1, x_ones_2, color='red', label='one')\n",
        "plt.legend()\n",
        "plt.show()"
      ],
      "metadata": {
        "colab": {
          "base_uri": "https://localhost:8080/",
          "height": 430
        },
        "id": "8oTh0mq-wmna",
        "outputId": "01d4fc9c-fa62-4f14-fda5-1ad6e9be5868"
      },
      "execution_count": 39,
      "outputs": [
        {
          "output_type": "display_data",
          "data": {
            "text/plain": [
              "<Figure size 640x480 with 1 Axes>"
            ],
            "image/png": "[encoded data removed]"
          },
          "metadata": {}
        }
      ]
    },
    {
      "cell_type": "markdown",
      "source": [
        "# 10. PCA using Sci-kit Learn"
      ],
      "metadata": {
        "id": "k89P5V0qwxxs"
      }
    },
    {
      "cell_type": "code",
      "source": [
        "from sklearn.decomposition import PCA\n",
        "from sklearn.preprocessing import StandardScaler"
      ],
      "metadata": {
        "id": "lgGsCVTtw04y"
      },
      "execution_count": 40,
      "outputs": []
    },
    {
      "cell_type": "code",
      "source": [
        "pca = PCA(n_components=2)\n",
        "X_pca = pca.fit_transform(X_c)"
      ],
      "metadata": {
        "id": "amoStsTLw_kj"
      },
      "execution_count": 43,
      "outputs": []
    },
    {
      "cell_type": "code",
      "source": [
        "P_2 = pca.components_.T"
      ],
      "metadata": {
        "id": "RA9KS_1UxEGh"
      },
      "execution_count": 47,
      "outputs": []
    },
    {
      "cell_type": "code",
      "source": [
        "Z = P_2.T @ X_c.T"
      ],
      "metadata": {
        "id": "qudg3hhqxaBn"
      },
      "execution_count": 48,
      "outputs": []
    },
    {
      "cell_type": "code",
      "source": [
        "x_zeros_1 = Z[0, :6742]\n",
        "x_zeros_2 = Z[1, :6742]"
      ],
      "metadata": {
        "id": "3vFtTWqKxjcX"
      },
      "execution_count": 50,
      "outputs": []
    },
    {
      "cell_type": "code",
      "source": [
        "x_ones_1 = Z[0, 6742:]\n",
        "x_ones_2 = Z[1, 6742:]"
      ],
      "metadata": {
        "id": "JRzxuGmMxoIG"
      },
      "execution_count": 51,
      "outputs": []
    },
    {
      "cell_type": "code",
      "source": [
        "plt.scatter(x_zeros_1, x_zeros_2, color='blue', label='zero')\n",
        "plt.scatter(x_ones_1, x_ones_2, color='red', label='one')\n",
        "plt.legend()\n",
        "plt.show()"
      ],
      "metadata": {
        "colab": {
          "base_uri": "https://localhost:8080/",
          "height": 430
        },
        "id": "s2uiBouoxpcq",
        "outputId": "f6cb67de-eed5-427a-d713-706ca6feb8ad"
      },
      "execution_count": 52,
      "outputs": [
        {
          "output_type": "display_data",
          "data": {
            "text/plain": [
              "<Figure size 640x480 with 1 Axes>"
            ],
            "image/png": "[encoded data removed]"
          },
          "metadata": {}
        }
      ]
    },
    {
      "cell_type": "markdown",
      "source": [
        "# Questions"
      ],
      "metadata": {
        "id": "1hGV6pEOyJOF"
      }
    },
    {
      "cell_type": "markdown",
      "source": [
        "Why do the three implementations yield different results?"
      ],
      "metadata": {
        "id": "xSD1n9zuyLqN"
      }
    }
  ]
}